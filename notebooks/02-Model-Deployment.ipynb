{
 "cells": [
  {
   "cell_type": "markdown",
   "metadata": {},
   "source": [
    "# Deploying Machine Learning Models to Production\n",
    "\n",
    "\n",
    "## Objective\n",
    "\n",
    "To deploy the trained model as a web appication to Arundo Fabric and evaluate the performance of the deployed model on unseen data. \n",
    "\n",
    "## How?\n",
    "\n",
    "Based on your trained model you will create a web application that you will then deploy to a cloud production environment (Arundo Fabric) using our [Arundo Composer](https://docs.arundo.com/composer/overview/composer-cli) tool. You'll then be able to interact with your applications either using the UI, [Model Manager](https://docs.arundo.com/fabric/models-manager) or [composer command-line interface](https://docs.arundo.com/composer/overview/composer-cli). Finally you'll be able to use the `grader` application to evaluate the model that you deployed in your application. \n",
    "\n",
    "## Requirements\n",
    "\n",
    "A persisted and trained model.\n",
    "\n",
    "\n",
    "### Note\n",
    "\n",
    "It is possible to deploy multiple applications should you experiment with different models. "
   ]
  },
  {
   "cell_type": "markdown",
   "metadata": {
    "toc-hr-collapsed": false
   },
   "source": [
    "# Model deployment instructions\n",
    "\n",
    "Composer is a command like interface (CLI) tool that gives you the ability to publish machine learning models into the Arundo Fabric cloud environment. \n",
    "\n",
    "[Arundo Composer documentation](https://docs.arundo.com/composer/overview/composer-cli)\n",
    "\n",
    "Arundo Composer is already available in your environment and you should be able to use it either from the notebooks (using the `!` to delegate execution to the shell) or starting a new terminal on JupyterHub. To start a terminal go to home and click `New` of the right hand side and select `Terminal` option.\n",
    "\n",
    "## Configuring composer\n",
    "\n",
    "To see the current configuration of Arundo Composer\n",
    "```bash\n",
    "composer check\n",
    "```\n",
    "\n",
    "We'll need to switch to the proper environment with:\n",
    "```bash\n",
    "composer switch eu-production\n",
    "```\n",
    "\n",
    "Now you can login with your email address and you'll be asked to provide a password that we sent over earlier.\n",
    "```bash\n",
    "composer login -e your.email@example.com\n",
    "```\n",
    "\n",
    "You can do the\n",
    "```bash\n",
    "composer check\n",
    "```\n",
    "again to verify the you're in the right environment and that the you're logged in, you should see a response similar to this:\n",
    "```\n",
    "Composer Version:   0.5.0\n",
    "Email:              first.last+amld2019@arundo.com\n",
    "Saved Password:     True\n",
    "Server:             https://eu-enterprise.arundo.com\n",
    "Access Remaining:   5h40m\n",
    "Refresh Remaining:  29d23h\n",
    "OS Version:         darwin\n",
    "```"
   ]
  },
  {
   "cell_type": "code",
   "execution_count": null,
   "metadata": {},
   "outputs": [],
   "source": [
    "# go ahead and try to log in with composer\n",
    "!composer check"
   ]
  },
  {
   "cell_type": "markdown",
   "metadata": {
    "toc-hr-collapsed": true
   },
   "source": [
    "## Preparing for deployment\n",
    "\n",
    "To deploy to the cloud, your application needs (at least) the following three files:\n",
    "```\n",
    "app.py\n",
    "config.yaml\n",
    "requirements.txt```\n",
    "\n",
    "\n",
    "In fact `requirements.txt` is not even necessary if you have no additional Python library dependencies beyond the standard libraries. The following cells show the corresponding contents of these files for the model which you have already seen deployed."
   ]
  },
  {
   "cell_type": "markdown",
   "metadata": {},
   "source": [
    "# Turning a machine learning model into a web application\n",
    "\n",
    "- [model workspace](https://docs.arundo.com/composer/model-workspaces)\n",
    "- [tutorial with an example](https://docs.arundo.com/composer/tutorials/building-a-model)"
   ]
  },
  {
   "cell_type": "markdown",
   "metadata": {},
   "source": [
    "### config.yaml\n",
    "\n",
    "This file names the model and provides some basic version control. Note that in the tenant no two models can have the same name and version number regardless of which user deployed it. If you try to deploy a model whose name/version already exists, then the build will fail. To make sure your name does not clash with other workshop users we suggest to add your github user handle in the model name, this will also make it easier to find in the Models Management table when you have deployed to Fabric. If your build fails, fix the code and bump the version numer when redeploying."
   ]
  },
  {
   "cell_type": "markdown",
   "metadata": {},
   "source": [
    "Example of config.yaml file: \n",
    "\n",
    "```\n",
    "model_name: OneClassSVM\n",
    "model_version: 0.0.1\n",
    "wrapper_version: 2\n",
    "```"
   ]
  },
  {
   "cell_type": "markdown",
   "metadata": {},
   "source": [
    "### requirements.txt\n",
    "\n",
    "Here you should add all the Python library requirements needed to execute your model so that they are installed correctly in the deployed environment. The main cause of failures in the deployment process tends to be a missing entry in this file, particularly of hidden dependencies. If your model has associated non-python binary dependencies which would need e.g. `apt-get install <PACKAGE>` then you will need an extra file `dependencies.apt` which lists these. For most workflows that shouldn't be needed."
   ]
  },
  {
   "cell_type": "markdown",
   "metadata": {},
   "source": [
    "Example of a `requirements.txt` file: \n",
    "\n",
    "```\n",
    "numpy==1.16.0\n",
    "scikit-learn==0.20.2\n",
    "```"
   ]
  },
  {
   "cell_type": "markdown",
   "metadata": {},
   "source": [
    "### app.py\n",
    "\n",
    "This file is where most of the changes take place. Here there is an endpoint implemented, the details of which are given in the docstrings for those endpoints."
   ]
  },
  {
   "cell_type": "code",
   "execution_count": null,
   "metadata": {},
   "outputs": [],
   "source": [
    "# example of app.py file\n",
    "\n",
    "\"\"\"\n",
    "To deploy your own serialized model\n",
    "\n",
    "\"\"\"\n",
    "\n",
    "from runtime.framework import endpoint, argument, returns\n",
    "import numpy as np\n",
    "\n",
    "# model dependent libraries\n",
    "from sklearn.externals import joblib\n",
    "\n",
    "\n",
    "# global variables can be loaded into memory to improve efficiency\n",
    "# be careful if using tensorflow globally\n",
    "# update file names according to your own models, as needed\n",
    "\n",
    "scaler_filename = 'scaler.model'\n",
    "model_filename = 'RandomForestClassifier.model'\n",
    "G_SCALER = joblib.load(scaler_filename)\n",
    "MODEL = joblib.load(model_filename)\n",
    "\n",
    "\n",
    "# update the argument names below based on the final list of features\n",
    "# that you have used in your model. \n",
    "\n",
    "\n",
    "@endpoint()\n",
    "@argument(\"setting1\", type=float, description=\"Value of input sensor setting1\")\n",
    "@argument(\"setting2\", type=float, description=\"Value of input sensor setting2\")\n",
    "@argument(\"setting3\", type=float, description=\"Value of input sensor setting3\")\n",
    "@argument(\"s1\", type=float, description=\"Value of input sensor s1\")\n",
    "@argument(\"s2\", type=float, description=\"Value of input sensor s2\")\n",
    "@argument(\"s3\", type=float, description=\"Value of input sensor s3\")\n",
    "@argument(\"s4\", type=float, description=\"Value of input sensor s4\")\n",
    "@argument(\"s5\", type=float, description=\"Value of input sensor s5\")\n",
    "@argument(\"s6\", type=float, description=\"Value of input sensor s6\")\n",
    "@argument(\"s7\", type=float, description=\"Value of input sensor s7\")\n",
    "@argument(\"s8\", type=float, description=\"Value of input sensor s8\")\n",
    "@argument(\"s9\", type=float, description=\"Value of input sensor s9\")\n",
    "@argument(\"s10\", type=float, description=\"Value of input sensor s10\")\n",
    "@argument(\"s11\", type=float, description=\"Value of input sensor s11\")\n",
    "@argument(\"s12\", type=float, description=\"Value of input sensor s12\")\n",
    "@argument(\"s13\", type=float, description=\"Value of input sensor s13\")\n",
    "@argument(\"s14\", type=float, description=\"Value of input sensor s14\")\n",
    "@argument(\"s15\", type=float, description=\"Value of input sensor s15\")\n",
    "@argument(\"s16\", type=float, description=\"Value of input sensor s16\")\n",
    "@argument(\"s17\", type=float, description=\"Value of input sensor s17\")\n",
    "@argument(\"s18\", type=float, description=\"Value of input sensor s18\")\n",
    "@argument(\"s19\", type=float, description=\"Value of input sensor s19\")\n",
    "@argument(\"s20\", type=float, description=\"Value of input sensor s20\")\n",
    "@argument(\"s21\", type=float, description=\"Value of input sensor s21\")\n",
    "@returns(\"predicted_class\", type=float,\n",
    "         description=\"Prediction as a float: 1.0 if anomaly, 0.0 otherwise\")\n",
    "def anomaly_detection(\n",
    "    setting1, setting2, setting3,\n",
    "    s1,  s2,  s3,  s4,  s5,  s6,  s7,  s8,  s9,  s10,\n",
    "    s11, s12, s13, s14, s15, s16, s17, s18, s19, s20, s21\n",
    "    ):\n",
    "    \"\"\"\n",
    "    This endpoint is used to connect a live stream of data to a model and\n",
    "    return predictions in real time for each new feature row as it arrives\n",
    "    from a remote location.\n",
    "    \"\"\"\n",
    "\n",
    "    # take the inputs and put them into and ordered np.array shape (, 29)\n",
    "    feature_list = np.array([\n",
    "        setting1, setting2, setting3,\n",
    "        s1,  s2,  s3,  s4,  s5,  s6,  s7,  s8,  s9,  s10,\n",
    "        s11, s12, s13, s14, s15, s16, s17, s18, s19, s20, s21\n",
    "    ])\n",
    "\n",
    "    # apply the globally loaded feature scaler\n",
    "    scaled = G_SCALER.transform(np.atleast_2d(feature_list))\n",
    "\n",
    "    # perform prediction using the model\n",
    "    yhat = MODEL.predict(scaled)\n",
    "\n",
    "    return float(yhat)\n"
   ]
  },
  {
   "cell_type": "markdown",
   "metadata": {},
   "source": [
    "## Testing before deployment\n",
    "\n",
    "To test if `app.py` is working as expected we can run the model in the current environment before deploying. Note that if this was on your laptop you could also access the auto rendered web form by navigating to port 5000 on the local host. The virtual machine has not been setup to render the forms so we will instead check by sending a request from the command line to that localhost port.\n",
    "\n",
    "First you will need to open a terminal from the notebook homepage, `cd work` and then issue the command `composer run`, if this fails you will need to debug `app.py`. Otherwise you should be able to execute the two following commands:"
   ]
  },
  {
   "cell_type": "code",
   "execution_count": null,
   "metadata": {
    "scrolled": false
   },
   "outputs": [],
   "source": [
    "!curl -d '@{../templates/test_row.json}' -H \"Content-Type: application/json\" http://localhost:5000/stream_prediction "
   ]
  },
  {
   "cell_type": "markdown",
   "metadata": {},
   "source": [
    "## Deploying to Arundo Fabric\n",
    "\n",
    "Deployment is simple. Run the following in your terminal, after navigating to your app folder: `composer publish`"
   ]
  },
  {
   "cell_type": "markdown",
   "metadata": {},
   "source": [
    "If the build or deploy fails, see if you can determine why or call one of the session conveners to help you debug. Otherwise you will now see the model listed as follows: `composer model list`"
   ]
  },
  {
   "cell_type": "markdown",
   "metadata": {},
   "source": [
    "Further information about the deployed model can be obtained directly from composer, for example:"
   ]
  },
  {
   "cell_type": "markdown",
   "metadata": {},
   "source": [
    "```\n",
    "composer model details <MODEL_UUID>\n",
    "composer model endpoints <MODEL_UUID>\n",
    "```"
   ]
  },
  {
   "cell_type": "markdown",
   "metadata": {},
   "source": [
    "## Application deployed for model evaluation"
   ]
  },
  {
   "cell_type": "markdown",
   "metadata": {},
   "source": [
    "We have deployed an application, refered to as `grader`, that will execute the model you have deployed in your application, apply it to make prediction on unseen data and return the performance of your model in relation to all models that have been deployed. "
   ]
  },
  {
   "cell_type": "markdown",
   "metadata": {},
   "source": [
    "# Arundo Fabric\n",
    "\n",
    "https://docs.arundo.com/fabric/overview\n"
   ]
  },
  {
   "cell_type": "markdown",
   "metadata": {},
   "source": [
    "# Model Manager"
   ]
  },
  {
   "cell_type": "markdown",
   "metadata": {},
   "source": [
    "https://docs.arundo.com/fabric/models-manager"
   ]
  },
  {
   "cell_type": "markdown",
   "metadata": {},
   "source": [
    "# Evaluate performance of deployed model"
   ]
  },
  {
   "cell_type": "markdown",
   "metadata": {},
   "source": [
    "Click on the following endpoint to use the `grader` application: "
   ]
  }
 ],
 "metadata": {
  "kernelspec": {
   "display_name": "Python 3",
   "language": "python",
   "name": "python3"
  },
  "language_info": {
   "codemirror_mode": {
    "name": "ipython",
    "version": 3
   },
   "file_extension": ".py",
   "mimetype": "text/x-python",
   "name": "python",
   "nbconvert_exporter": "python",
   "pygments_lexer": "ipython3",
   "version": "3.6.6"
  }
 },
 "nbformat": 4,
 "nbformat_minor": 2
}
